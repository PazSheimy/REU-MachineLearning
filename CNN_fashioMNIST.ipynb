{
 "metadata": {
  "language_info": {
   "codemirror_mode": {
    "name": "ipython",
    "version": 3
   },
   "file_extension": ".py",
   "mimetype": "text/x-python",
   "name": "python",
   "nbconvert_exporter": "python",
   "pygments_lexer": "ipython3",
   "version": "3.9.5"
  },
  "orig_nbformat": 4,
  "kernelspec": {
   "name": "python3",
   "display_name": "Python 3.9.5 64-bit"
  },
  "interpreter": {
   "hash": "83a5d326ed483fa99398f7f943d2c21e8cdd447b90f554b71990e0eaa56b71c6"
  }
 },
 "nbformat": 4,
 "nbformat_minor": 2,
 "cells": [
  {
   "cell_type": "code",
   "execution_count": 1,
   "metadata": {},
   "outputs": [],
   "source": [
    "#Using Convolutional Neural Network for Classification problem. \n",
    "import matplotlib.pyplot as plt\n",
    "import numpy as np\n",
    "from keras.datasets import fashion_mnist\n",
    "from tensorflow.keras.utils import to_categorical\n",
    "from sklearn import preprocessing\n",
    "from sklearn.model_selection import train_test_split"
   ]
  },
  {
   "cell_type": "code",
   "execution_count": 2,
   "metadata": {},
   "outputs": [
    {
     "output_type": "stream",
     "name": "stdout",
     "text": [
      "Downloading data from https://storage.googleapis.com/tensorflow/tf-keras-datasets/train-labels-idx1-ubyte.gz\n",
      "32768/29515 [=================================] - 0s 2us/step\n",
      "40960/29515 [=========================================] - 0s 2us/step\n",
      "Downloading data from https://storage.googleapis.com/tensorflow/tf-keras-datasets/train-images-idx3-ubyte.gz\n",
      "26427392/26421880 [==============================] - 5s 0us/step\n",
      "26435584/26421880 [==============================] - 5s 0us/step\n",
      "Downloading data from https://storage.googleapis.com/tensorflow/tf-keras-datasets/t10k-labels-idx1-ubyte.gz\n",
      "16384/5148 [===============================================================================================] - 0s 0s/step\n",
      "Downloading data from https://storage.googleapis.com/tensorflow/tf-keras-datasets/t10k-images-idx3-ubyte.gz\n",
      "4423680/4422102 [==============================] - 1s 0us/step\n",
      "4431872/4422102 [==============================] - 1s 0us/step\n",
      "This dataset has 10 classes\n"
     ]
    }
   ],
   "source": [
    "# dataset's information https://www.tensorflow.org/api_docs/python/tf/keras/datasets/fashion_mnist/load_data\n",
    "(x_train, y_train), (x_test, y_test) = fashion_mnist.load_data()\n",
    "\n",
    "# Finding the number of classes\n",
    "classes = np.unique(y_train)\n",
    "nClasses = len(classes)\n",
    "print(\"This dataset has {0:d} classes\".format(nClasses))\n",
    "\n",
    "# Defining a dictionaty for label name\n",
    "y_names = {0: \"T-shirt\", 1: \"Trouser\", 2: \"Pullover\", 3: \"Dress\", 4: \"Coat\", 5: \"Sandal\", 6: \"Shirt\", 7: \"Sneaker\", 8: \"Bag\", 9: \"Ankle Boot\"}"
   ]
  },
  {
   "cell_type": "code",
   "execution_count": 3,
   "metadata": {},
   "outputs": [
    {
     "output_type": "stream",
     "name": "stdout",
     "text": [
      "This dataset has 10 classes\n"
     ]
    }
   ],
   "source": [
    "# dataset's information https://www.tensorflow.org/api_docs/python/tf/keras/datasets/fashion_mnist/load_data\n",
    "(x_train, y_train), (x_test, y_test) = fashion_mnist.load_data()\n",
    "\n",
    "# Finding the number of classes\n",
    "classes = np.unique(y_train)\n",
    "nClasses = len(classes)\n",
    "print(\"This dataset has {0:d} classes\".format(nClasses))\n",
    "\n",
    "# Defining a dictionaty for label name\n",
    "y_names = {0: \"T-shirt\", 1: \"Trouser\", 2: \"Pullover\", 3: \"Dress\", 4: \"Coat\", 5: \"Sandal\", 6: \"Shirt\", 7: \"Sneaker\", 8: \"Bag\", 9: \"Ankle Boot\"}"
   ]
  },
  {
   "cell_type": "code",
   "execution_count": 4,
   "metadata": {},
   "outputs": [
    {
     "output_type": "stream",
     "name": "stdout",
     "text": [
      "The dimention of each image is 28x28, the training dataset has 60000 sample and testing dataset has 10000 samples\n"
     ]
    }
   ],
   "source": [
    "n_traing_samples = len(x_train)\n",
    "n_test_sample = len(x_test)\n",
    "dimension_image = x_train[0].shape \n",
    "print(\"The dimention of each image is {0:d}x{1:d}, the training dataset has {2:d} sample and testing dataset has {3:d} samples\".format(dimension_image[0],dimension_image[1],n_traing_samples,n_test_sample))"
   ]
  },
  {
   "cell_type": "code",
   "execution_count": 5,
   "metadata": {},
   "outputs": [
    {
     "output_type": "display_data",
     "data": {
      "text/plain": "<Figure size 720x720 with 3 Axes>",
      "image/svg+xml": "<?xml version=\"1.0\" encoding=\"utf-8\" standalone=\"no\"?>\r\n<!DOCTYPE svg PUBLIC \"-//W3C//DTD SVG 1.1//EN\"\r\n  \"http://www.w3.org/Graphics/SVG/1.1/DTD/svg11.dtd\">\r\n<svg height=\"193.635772pt\" version=\"1.1\" viewBox=\"0 0 572.4 193.635772\" width=\"572.4pt\" xmlns=\"http://www.w3.org/2000/svg\" xmlns:xlink=\"http://www.w3.org/1999/xlink\">\r\n <metadata>\r\n  <rdf:RDF xmlns:cc=\"http://creativecommons.org/ns#\" xmlns:dc=\"http://purl.org/dc/elements/1.1/\" xmlns:rdf=\"http://www.w3.org/1999/02/22-rdf-syntax-ns#\">\r\n   <cc:Work>\r\n    <dc:type rdf:resource=\"http://purl.org/dc/dcmitype/StillImage\"/>\r\n    <dc:date>2021-07-08T10:12:47.501145</dc:date>\r\n    <dc:format>image/svg+xml</dc:format>\r\n    <dc:creator>\r\n     <cc:Agent>\r\n      <dc:title>Matplotlib v3.4.2, https://matplotlib.org/</dc:title>\r\n     </cc:Agent>\r\n    </dc:creator>\r\n   </cc:Work>\r\n  </rdf:RDF>\r\n </metadata>\r\n <defs>\r\n  <style type=\"text/css\">*{stroke-linecap:butt;stroke-linejoin:round;}</style>\r\n </defs>\r\n <g id=\"figure_1\">\r\n  <g id=\"patch_1\">\r\n   <path d=\"M 0 193.635772 \r\nL 572.4 193.635772 \r\nL 572.4 -0 \r\nL 0 -0 \r\nz\r\n\" style=\"fill:none;\"/>\r\n  </g>\r\n  <g id=\"axes_1\">\r\n   <g clip-path=\"url(#pd4d7044bbb)\">\r\n    <image height=\"165\" id=\"image654b51c8cd\" transform=\"scale(1 -1)translate(0 -165)\" width=\"165\" x=\"7.2\" xlink:href=\"data:image/png;base64,\r\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\" y=\"-21.435772\"/>\r\n   </g>\r\n   <g id=\"text_1\">\r\n    <!-- Training: Ankle Boot -->\r\n    <g transform=\"translate(29.201636 16.318125)scale(0.12 -0.12)\">\r\n     <defs>\r\n      <path d=\"M -19 4666 \r\nL 3928 4666 \r\nL 3928 4134 \r\nL 2272 4134 \r\nL 2272 0 \r\nL 1638 0 \r\nL 1638 4134 \r\nL -19 4134 \r\nL -19 4666 \r\nz\r\n\" id=\"DejaVuSans-54\" transform=\"scale(0.015625)\"/>\r\n      <path d=\"M 2631 2963 \r\nQ 2534 3019 2420 3045 \r\nQ 2306 3072 2169 3072 \r\nQ 1681 3072 1420 2755 \r\nQ 1159 2438 1159 1844 \r\nL 1159 0 \r\nL 581 0 \r\nL 581 3500 \r\nL 1159 3500 \r\nL 1159 2956 \r\nQ 1341 3275 1631 3429 \r\nQ 1922 3584 2338 3584 \r\nQ 2397 3584 2469 3576 \r\nQ 2541 3569 2628 3553 \r\nL 2631 2963 \r\nz\r\n\" id=\"DejaVuSans-72\" transform=\"scale(0.015625)\"/>\r\n      <path d=\"M 2194 1759 \r\nQ 1497 1759 1228 1600 \r\nQ 959 1441 959 1056 \r\nQ 959 750 1161 570 \r\nQ 1363 391 1709 391 \r\nQ 2188 391 2477 730 \r\nQ 2766 1069 2766 1631 \r\nL 2766 1759 \r\nL 2194 1759 \r\nz\r\nM 3341 1997 \r\nL 3341 0 \r\nL 2766 0 \r\nL 2766 531 \r\nQ 2569 213 2275 61 \r\nQ 1981 -91 1556 -91 \r\nQ 1019 -91 701 211 \r\nQ 384 513 384 1019 \r\nQ 384 1609 779 1909 \r\nQ 1175 2209 1959 2209 \r\nL 2766 2209 \r\nL 2766 2266 \r\nQ 2766 2663 2505 2880 \r\nQ 2244 3097 1772 3097 \r\nQ 1472 3097 1187 3025 \r\nQ 903 2953 641 2809 \r\nL 641 3341 \r\nQ 956 3463 1253 3523 \r\nQ 1550 3584 1831 3584 \r\nQ 2591 3584 2966 3190 \r\nQ 3341 2797 3341 1997 \r\nz\r\n\" id=\"DejaVuSans-61\" transform=\"scale(0.015625)\"/>\r\n      <path d=\"M 603 3500 \r\nL 1178 3500 \r\nL 1178 0 \r\nL 603 0 \r\nL 603 3500 \r\nz\r\nM 603 4863 \r\nL 1178 4863 \r\nL 1178 4134 \r\nL 603 4134 \r\nL 603 4863 \r\nz\r\n\" id=\"DejaVuSans-69\" transform=\"scale(0.015625)\"/>\r\n      <path d=\"M 3513 2113 \r\nL 3513 0 \r\nL 2938 0 \r\nL 2938 2094 \r\nQ 2938 2591 2744 2837 \r\nQ 2550 3084 2163 3084 \r\nQ 1697 3084 1428 2787 \r\nQ 1159 2491 1159 1978 \r\nL 1159 0 \r\nL 581 0 \r\nL 581 3500 \r\nL 1159 3500 \r\nL 1159 2956 \r\nQ 1366 3272 1645 3428 \r\nQ 1925 3584 2291 3584 \r\nQ 2894 3584 3203 3211 \r\nQ 3513 2838 3513 2113 \r\nz\r\n\" id=\"DejaVuSans-6e\" transform=\"scale(0.015625)\"/>\r\n      <path d=\"M 2906 1791 \r\nQ 2906 2416 2648 2759 \r\nQ 2391 3103 1925 3103 \r\nQ 1463 3103 1205 2759 \r\nQ 947 2416 947 1791 \r\nQ 947 1169 1205 825 \r\nQ 1463 481 1925 481 \r\nQ 2391 481 2648 825 \r\nQ 2906 1169 2906 1791 \r\nz\r\nM 3481 434 \r\nQ 3481 -459 3084 -895 \r\nQ 2688 -1331 1869 -1331 \r\nQ 1566 -1331 1297 -1286 \r\nQ 1028 -1241 775 -1147 \r\nL 775 -588 \r\nQ 1028 -725 1275 -790 \r\nQ 1522 -856 1778 -856 \r\nQ 2344 -856 2625 -561 \r\nQ 2906 -266 2906 331 \r\nL 2906 616 \r\nQ 2728 306 2450 153 \r\nQ 2172 0 1784 0 \r\nQ 1141 0 747 490 \r\nQ 353 981 353 1791 \r\nQ 353 2603 747 3093 \r\nQ 1141 3584 1784 3584 \r\nQ 2172 3584 2450 3431 \r\nQ 2728 3278 2906 2969 \r\nL 2906 3500 \r\nL 3481 3500 \r\nL 3481 434 \r\nz\r\n\" id=\"DejaVuSans-67\" transform=\"scale(0.015625)\"/>\r\n      <path d=\"M 750 794 \r\nL 1409 794 \r\nL 1409 0 \r\nL 750 0 \r\nL 750 794 \r\nz\r\nM 750 3309 \r\nL 1409 3309 \r\nL 1409 2516 \r\nL 750 2516 \r\nL 750 3309 \r\nz\r\n\" id=\"DejaVuSans-3a\" transform=\"scale(0.015625)\"/>\r\n      <path id=\"DejaVuSans-20\" transform=\"scale(0.015625)\"/>\r\n      <path d=\"M 2188 4044 \r\nL 1331 1722 \r\nL 3047 1722 \r\nL 2188 4044 \r\nz\r\nM 1831 4666 \r\nL 2547 4666 \r\nL 4325 0 \r\nL 3669 0 \r\nL 3244 1197 \r\nL 1141 1197 \r\nL 716 0 \r\nL 50 0 \r\nL 1831 4666 \r\nz\r\n\" id=\"DejaVuSans-41\" transform=\"scale(0.015625)\"/>\r\n      <path d=\"M 581 4863 \r\nL 1159 4863 \r\nL 1159 1991 \r\nL 2875 3500 \r\nL 3609 3500 \r\nL 1753 1863 \r\nL 3688 0 \r\nL 2938 0 \r\nL 1159 1709 \r\nL 1159 0 \r\nL 581 0 \r\nL 581 4863 \r\nz\r\n\" id=\"DejaVuSans-6b\" transform=\"scale(0.015625)\"/>\r\n      <path d=\"M 603 4863 \r\nL 1178 4863 \r\nL 1178 0 \r\nL 603 0 \r\nL 603 4863 \r\nz\r\n\" id=\"DejaVuSans-6c\" transform=\"scale(0.015625)\"/>\r\n      <path d=\"M 3597 1894 \r\nL 3597 1613 \r\nL 953 1613 \r\nQ 991 1019 1311 708 \r\nQ 1631 397 2203 397 \r\nQ 2534 397 2845 478 \r\nQ 3156 559 3463 722 \r\nL 3463 178 \r\nQ 3153 47 2828 -22 \r\nQ 2503 -91 2169 -91 \r\nQ 1331 -91 842 396 \r\nQ 353 884 353 1716 \r\nQ 353 2575 817 3079 \r\nQ 1281 3584 2069 3584 \r\nQ 2775 3584 3186 3129 \r\nQ 3597 2675 3597 1894 \r\nz\r\nM 3022 2063 \r\nQ 3016 2534 2758 2815 \r\nQ 2500 3097 2075 3097 \r\nQ 1594 3097 1305 2825 \r\nQ 1016 2553 972 2059 \r\nL 3022 2063 \r\nz\r\n\" id=\"DejaVuSans-65\" transform=\"scale(0.015625)\"/>\r\n      <path d=\"M 1259 2228 \r\nL 1259 519 \r\nL 2272 519 \r\nQ 2781 519 3026 730 \r\nQ 3272 941 3272 1375 \r\nQ 3272 1813 3026 2020 \r\nQ 2781 2228 2272 2228 \r\nL 1259 2228 \r\nz\r\nM 1259 4147 \r\nL 1259 2741 \r\nL 2194 2741 \r\nQ 2656 2741 2882 2914 \r\nQ 3109 3088 3109 3444 \r\nQ 3109 3797 2882 3972 \r\nQ 2656 4147 2194 4147 \r\nL 1259 4147 \r\nz\r\nM 628 4666 \r\nL 2241 4666 \r\nQ 2963 4666 3353 4366 \r\nQ 3744 4066 3744 3513 \r\nQ 3744 3084 3544 2831 \r\nQ 3344 2578 2956 2516 \r\nQ 3422 2416 3680 2098 \r\nQ 3938 1781 3938 1306 \r\nQ 3938 681 3513 340 \r\nQ 3088 0 2303 0 \r\nL 628 0 \r\nL 628 4666 \r\nz\r\n\" id=\"DejaVuSans-42\" transform=\"scale(0.015625)\"/>\r\n      <path d=\"M 1959 3097 \r\nQ 1497 3097 1228 2736 \r\nQ 959 2375 959 1747 \r\nQ 959 1119 1226 758 \r\nQ 1494 397 1959 397 \r\nQ 2419 397 2687 759 \r\nQ 2956 1122 2956 1747 \r\nQ 2956 2369 2687 2733 \r\nQ 2419 3097 1959 3097 \r\nz\r\nM 1959 3584 \r\nQ 2709 3584 3137 3096 \r\nQ 3566 2609 3566 1747 \r\nQ 3566 888 3137 398 \r\nQ 2709 -91 1959 -91 \r\nQ 1206 -91 779 398 \r\nQ 353 888 353 1747 \r\nQ 353 2609 779 3096 \r\nQ 1206 3584 1959 3584 \r\nz\r\n\" id=\"DejaVuSans-6f\" transform=\"scale(0.015625)\"/>\r\n      <path d=\"M 1172 4494 \r\nL 1172 3500 \r\nL 2356 3500 \r\nL 2356 3053 \r\nL 1172 3053 \r\nL 1172 1153 \r\nQ 1172 725 1289 603 \r\nQ 1406 481 1766 481 \r\nL 2356 481 \r\nL 2356 0 \r\nL 1766 0 \r\nQ 1100 0 847 248 \r\nQ 594 497 594 1153 \r\nL 594 3053 \r\nL 172 3053 \r\nL 172 3500 \r\nL 594 3500 \r\nL 594 4494 \r\nL 1172 4494 \r\nz\r\n\" id=\"DejaVuSans-74\" transform=\"scale(0.015625)\"/>\r\n     </defs>\r\n     <use xlink:href=\"#DejaVuSans-54\"/>\r\n     <use x=\"46.333984\" xlink:href=\"#DejaVuSans-72\"/>\r\n     <use x=\"87.447266\" xlink:href=\"#DejaVuSans-61\"/>\r\n     <use x=\"148.726562\" xlink:href=\"#DejaVuSans-69\"/>\r\n     <use x=\"176.509766\" xlink:href=\"#DejaVuSans-6e\"/>\r\n     <use x=\"239.888672\" xlink:href=\"#DejaVuSans-69\"/>\r\n     <use x=\"267.671875\" xlink:href=\"#DejaVuSans-6e\"/>\r\n     <use x=\"331.050781\" xlink:href=\"#DejaVuSans-67\"/>\r\n     <use x=\"394.527344\" xlink:href=\"#DejaVuSans-3a\"/>\r\n     <use x=\"428.21875\" xlink:href=\"#DejaVuSans-20\"/>\r\n     <use x=\"460.005859\" xlink:href=\"#DejaVuSans-41\"/>\r\n     <use x=\"528.414062\" xlink:href=\"#DejaVuSans-6e\"/>\r\n     <use x=\"591.792969\" xlink:href=\"#DejaVuSans-6b\"/>\r\n     <use x=\"649.703125\" xlink:href=\"#DejaVuSans-6c\"/>\r\n     <use x=\"677.486328\" xlink:href=\"#DejaVuSans-65\"/>\r\n     <use x=\"739.009766\" xlink:href=\"#DejaVuSans-20\"/>\r\n     <use x=\"770.796875\" xlink:href=\"#DejaVuSans-42\"/>\r\n     <use x=\"839.400391\" xlink:href=\"#DejaVuSans-6f\"/>\r\n     <use x=\"900.582031\" xlink:href=\"#DejaVuSans-6f\"/>\r\n     <use x=\"961.763672\" xlink:href=\"#DejaVuSans-74\"/>\r\n    </g>\r\n   </g>\r\n  </g>\r\n  <g id=\"axes_2\">\r\n   <g clip-path=\"url(#p6c98475b8c)\">\r\n    <image height=\"165\" id=\"imagec7bea5b7eb\" transform=\"scale(1 -1)translate(0 -165)\" width=\"165\" x=\"204.141176\" xlink:href=\"data:image/png;base64,\r\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\" y=\"-21.435772\"/>\r\n   </g>\r\n   <g id=\"text_2\">\r\n    <!-- Training: T-shirt -->\r\n    <g transform=\"translate(239.905312 16.318125)scale(0.12 -0.12)\">\r\n     <defs>\r\n      <path d=\"M 313 2009 \r\nL 1997 2009 \r\nL 1997 1497 \r\nL 313 1497 \r\nL 313 2009 \r\nz\r\n\" id=\"DejaVuSans-2d\" transform=\"scale(0.015625)\"/>\r\n      <path d=\"M 2834 3397 \r\nL 2834 2853 \r\nQ 2591 2978 2328 3040 \r\nQ 2066 3103 1784 3103 \r\nQ 1356 3103 1142 2972 \r\nQ 928 2841 928 2578 \r\nQ 928 2378 1081 2264 \r\nQ 1234 2150 1697 2047 \r\nL 1894 2003 \r\nQ 2506 1872 2764 1633 \r\nQ 3022 1394 3022 966 \r\nQ 3022 478 2636 193 \r\nQ 2250 -91 1575 -91 \r\nQ 1294 -91 989 -36 \r\nQ 684 19 347 128 \r\nL 347 722 \r\nQ 666 556 975 473 \r\nQ 1284 391 1588 391 \r\nQ 1994 391 2212 530 \r\nQ 2431 669 2431 922 \r\nQ 2431 1156 2273 1281 \r\nQ 2116 1406 1581 1522 \r\nL 1381 1569 \r\nQ 847 1681 609 1914 \r\nQ 372 2147 372 2553 \r\nQ 372 3047 722 3315 \r\nQ 1072 3584 1716 3584 \r\nQ 2034 3584 2315 3537 \r\nQ 2597 3491 2834 3397 \r\nz\r\n\" id=\"DejaVuSans-73\" transform=\"scale(0.015625)\"/>\r\n      <path d=\"M 3513 2113 \r\nL 3513 0 \r\nL 2938 0 \r\nL 2938 2094 \r\nQ 2938 2591 2744 2837 \r\nQ 2550 3084 2163 3084 \r\nQ 1697 3084 1428 2787 \r\nQ 1159 2491 1159 1978 \r\nL 1159 0 \r\nL 581 0 \r\nL 581 4863 \r\nL 1159 4863 \r\nL 1159 2956 \r\nQ 1366 3272 1645 3428 \r\nQ 1925 3584 2291 3584 \r\nQ 2894 3584 3203 3211 \r\nQ 3513 2838 3513 2113 \r\nz\r\n\" id=\"DejaVuSans-68\" transform=\"scale(0.015625)\"/>\r\n     </defs>\r\n     <use xlink:href=\"#DejaVuSans-54\"/>\r\n     <use x=\"46.333984\" xlink:href=\"#DejaVuSans-72\"/>\r\n     <use x=\"87.447266\" xlink:href=\"#DejaVuSans-61\"/>\r\n     <use x=\"148.726562\" xlink:href=\"#DejaVuSans-69\"/>\r\n     <use x=\"176.509766\" xlink:href=\"#DejaVuSans-6e\"/>\r\n     <use x=\"239.888672\" xlink:href=\"#DejaVuSans-69\"/>\r\n     <use x=\"267.671875\" xlink:href=\"#DejaVuSans-6e\"/>\r\n     <use x=\"331.050781\" xlink:href=\"#DejaVuSans-67\"/>\r\n     <use x=\"394.527344\" xlink:href=\"#DejaVuSans-3a\"/>\r\n     <use x=\"428.21875\" xlink:href=\"#DejaVuSans-20\"/>\r\n     <use x=\"460.005859\" xlink:href=\"#DejaVuSans-54\"/>\r\n     <use x=\"511.964844\" xlink:href=\"#DejaVuSans-2d\"/>\r\n     <use x=\"548.048828\" xlink:href=\"#DejaVuSans-73\"/>\r\n     <use x=\"600.148438\" xlink:href=\"#DejaVuSans-68\"/>\r\n     <use x=\"663.527344\" xlink:href=\"#DejaVuSans-69\"/>\r\n     <use x=\"691.310547\" xlink:href=\"#DejaVuSans-72\"/>\r\n     <use x=\"732.423828\" xlink:href=\"#DejaVuSans-74\"/>\r\n    </g>\r\n   </g>\r\n  </g>\r\n  <g id=\"axes_3\">\r\n   <g clip-path=\"url(#p60862d246f)\">\r\n    <image height=\"165\" id=\"image97d44cfef7\" transform=\"scale(1 -1)translate(0 -165)\" width=\"165\" x=\"401.082353\" xlink:href=\"data:image/png;base64,\r\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\" y=\"-21.435772\"/>\r\n   </g>\r\n   <g id=\"text_3\">\r\n    <!-- Training: T-shirt -->\r\n    <g transform=\"translate(436.846489 16.318125)scale(0.12 -0.12)\">\r\n     <use xlink:href=\"#DejaVuSans-54\"/>\r\n     <use x=\"46.333984\" xlink:href=\"#DejaVuSans-72\"/>\r\n     <use x=\"87.447266\" xlink:href=\"#DejaVuSans-61\"/>\r\n     <use x=\"148.726562\" xlink:href=\"#DejaVuSans-69\"/>\r\n     <use x=\"176.509766\" xlink:href=\"#DejaVuSans-6e\"/>\r\n     <use x=\"239.888672\" xlink:href=\"#DejaVuSans-69\"/>\r\n     <use x=\"267.671875\" xlink:href=\"#DejaVuSans-6e\"/>\r\n     <use x=\"331.050781\" xlink:href=\"#DejaVuSans-67\"/>\r\n     <use x=\"394.527344\" xlink:href=\"#DejaVuSans-3a\"/>\r\n     <use x=\"428.21875\" xlink:href=\"#DejaVuSans-20\"/>\r\n     <use x=\"460.005859\" xlink:href=\"#DejaVuSans-54\"/>\r\n     <use x=\"511.964844\" xlink:href=\"#DejaVuSans-2d\"/>\r\n     <use x=\"548.048828\" xlink:href=\"#DejaVuSans-73\"/>\r\n     <use x=\"600.148438\" xlink:href=\"#DejaVuSans-68\"/>\r\n     <use x=\"663.527344\" xlink:href=\"#DejaVuSans-69\"/>\r\n     <use x=\"691.310547\" xlink:href=\"#DejaVuSans-72\"/>\r\n     <use x=\"732.423828\" xlink:href=\"#DejaVuSans-74\"/>\r\n    </g>\r\n   </g>\r\n  </g>\r\n </g>\r\n <defs>\r\n  <clipPath id=\"pd4d7044bbb\">\r\n   <rect height=\"164.117647\" width=\"164.117647\" x=\"7.2\" y=\"22.318125\"/>\r\n  </clipPath>\r\n  <clipPath id=\"p6c98475b8c\">\r\n   <rect height=\"164.117647\" width=\"164.117647\" x=\"204.141176\" y=\"22.318125\"/>\r\n  </clipPath>\r\n  <clipPath id=\"p60862d246f\">\r\n   <rect height=\"164.117647\" width=\"164.117647\" x=\"401.082353\" y=\"22.318125\"/>\r\n  </clipPath>\r\n </defs>\r\n</svg>\r\n",
      "image/png": "[encoded data removed]"
     },
     "metadata": {
      "needs_background": "light"
     }
    }
   ],
   "source": [
    "# Showing the first 3 images\n",
    "_, fig = plt.subplots(nrows=1, ncols=3, figsize=(10, 10))\n",
    "for ax, image, label in zip(fig, x_train, y_train):\n",
    "    ax.set_axis_off()\n",
    "    ax.imshow(image, cmap=plt.cm.gray_r)\n",
    "    ax.set_title('Training: %s' % y_names[label])"
   ]
  },
  {
   "cell_type": "code",
   "execution_count": 8,
   "metadata": {},
   "outputs": [],
   "source": [
    "# To use a CNN model the input's format must be (width x high x channels),\n",
    "train_X = x_train.reshape((-1, 28,28, 1))\n",
    "test_X = x_test.reshape((-1, 28,28, 1))"
   ]
  },
  {
   "cell_type": "code",
   "execution_count": 7,
   "metadata": {},
   "outputs": [],
   "source": [
    "# Changing format from int8 to float32 (Best numerical precision floatingPoints) and normalizing the data.\n",
    "train_X = train_X.astype('float32')\n",
    "test_X = test_X.astype('float32')\n",
    "train_X = train_X / 255\n",
    "test_X = test_X / 255"
   ]
  },
  {
   "cell_type": "code",
   "execution_count": 9,
   "metadata": {},
   "outputs": [],
   "source": [
    "# Transform your labels values into a categorial format or best known as one_hot encoding.\n",
    "train_Y_one_hot = to_categorical(y_train)\n",
    "test_Y_one_hot = to_categorical(y_test)\n",
    "# use train_test_split function to crear validation training set from train data.\n",
    "# Split data into 80% train and 20% test subsets\n",
    "X_train_model, X_validation, y_train_model, y_validation = train_test_split(train_X, train_Y_one_hot, test_size=0.2, shuffle=False)"
   ]
  },
  {
   "cell_type": "code",
   "execution_count": 10,
   "metadata": {},
   "outputs": [],
   "source": [
    "# Importing the required layers operation and activation function to build your model\n",
    "from keras.models import Sequential,Input,Model\n",
    "from keras.layers import Dense, Dropout, Flatten\n",
    "from keras.layers import Conv2D, MaxPooling2D\n",
    "from keras.layers.normalization import BatchNormalization\n",
    "from keras.layers.advanced_activations import LeakyReLU"
   ]
  },
  {
   "cell_type": "code",
   "execution_count": 11,
   "metadata": {},
   "outputs": [],
   "source": [
    "# Defining basic parameters\n",
    "batch_size = 32\n",
    "epochs = 15\n",
    "num_classes = 10"
   ]
  },
  {
   "cell_type": "code",
   "execution_count": 12,
   "metadata": {},
   "outputs": [],
   "source": [
    "# Buidling your CNN model\n",
    "fashion_model = Sequential()\n",
    "fashion_model.add(Conv2D(32, kernel_size=(3, 3),activation='linear',input_shape=(28,28,1),padding='same'))\n",
    "fashion_model.add(LeakyReLU(alpha=0.1))\n",
    "fashion_model.add(MaxPooling2D((2, 2),padding='same'))\n",
    "fashion_model.add(Conv2D(64, (3, 3), activation='linear',padding='same'))\n",
    "fashion_model.add(LeakyReLU(alpha=0.1))\n",
    "fashion_model.add(MaxPooling2D(pool_size=(2, 2),padding='same'))\n",
    "fashion_model.add(Conv2D(128, (3, 3), activation='linear',padding='same'))\n",
    "fashion_model.add(LeakyReLU(alpha=0.1))                  \n",
    "fashion_model.add(MaxPooling2D(pool_size=(2, 2),padding='same'))\n",
    "fashion_model.add(Flatten())\n",
    "fashion_model.add(Dense(128, activation='linear'))\n",
    "fashion_model.add(LeakyReLU(alpha=0.1))                  \n",
    "fashion_model.add(Dense(num_classes, activation='softmax')) "
   ]
  },
  {
   "cell_type": "code",
   "execution_count": 13,
   "metadata": {},
   "outputs": [],
   "source": [
    "# Compiling your model\n",
    "fashion_model.compile(loss='binary_crossentropy', optimizer='adam',metrics=['accuracy'])"
   ]
  },
  {
   "cell_type": "code",
   "execution_count": 14,
   "metadata": {},
   "outputs": [
    {
     "output_type": "stream",
     "name": "stdout",
     "text": [
      "Model: \"sequential\"\n_________________________________________________________________\nLayer (type)                 Output Shape              Param #   \n=================================================================\nconv2d (Conv2D)              (None, 28, 28, 32)        320       \n_________________________________________________________________\nleaky_re_lu (LeakyReLU)      (None, 28, 28, 32)        0         \n_________________________________________________________________\nmax_pooling2d (MaxPooling2D) (None, 14, 14, 32)        0         \n_________________________________________________________________\nconv2d_1 (Conv2D)            (None, 14, 14, 64)        18496     \n_________________________________________________________________\nleaky_re_lu_1 (LeakyReLU)    (None, 14, 14, 64)        0         \n_________________________________________________________________\nmax_pooling2d_1 (MaxPooling2 (None, 7, 7, 64)          0         \n_________________________________________________________________\nconv2d_2 (Conv2D)            (None, 7, 7, 128)         73856     \n_________________________________________________________________\nleaky_re_lu_2 (LeakyReLU)    (None, 7, 7, 128)         0         \n_________________________________________________________________\nmax_pooling2d_2 (MaxPooling2 (None, 4, 4, 128)         0         \n_________________________________________________________________\nflatten (Flatten)            (None, 2048)              0         \n_________________________________________________________________\ndense (Dense)                (None, 128)               262272    \n_________________________________________________________________\nleaky_re_lu_3 (LeakyReLU)    (None, 128)               0         \n_________________________________________________________________\ndense_1 (Dense)              (None, 10)                1290      \n=================================================================\nTotal params: 356,234\nTrainable params: 356,234\nNon-trainable params: 0\n_________________________________________________________________\n"
     ]
    }
   ],
   "source": [
    "# Verify the outpur shape for each layer and the number of trainable parameters.\n",
    "fashion_model.summary()"
   ]
  },
  {
   "cell_type": "code",
   "execution_count": 15,
   "metadata": {},
   "outputs": [
    {
     "output_type": "stream",
     "name": "stdout",
     "text": [
      "Epoch 1/15\n",
      "1500/1500 [==============================] - 143s 46ms/step - loss: 0.2540 - accuracy: 0.7746 - val_loss: 0.0622 - val_accuracy: 0.8820\n",
      "Epoch 2/15\n",
      "1500/1500 [==============================] - 78s 52ms/step - loss: 0.0567 - accuracy: 0.8921 - val_loss: 0.0502 - val_accuracy: 0.8975\n",
      "Epoch 3/15\n",
      "1500/1500 [==============================] - 78s 52ms/step - loss: 0.0479 - accuracy: 0.9077 - val_loss: 0.0531 - val_accuracy: 0.8986\n",
      "Epoch 4/15\n",
      "1500/1500 [==============================] - 78s 52ms/step - loss: 0.0427 - accuracy: 0.9193 - val_loss: 0.0506 - val_accuracy: 0.9015\n",
      "Epoch 5/15\n",
      "1500/1500 [==============================] - 81s 54ms/step - loss: 0.0395 - accuracy: 0.9236 - val_loss: 0.0484 - val_accuracy: 0.9085\n",
      "Epoch 6/15\n",
      "1500/1500 [==============================] - 85s 57ms/step - loss: 0.0373 - accuracy: 0.9290 - val_loss: 0.0511 - val_accuracy: 0.9076\n",
      "Epoch 7/15\n",
      "1500/1500 [==============================] - 88s 58ms/step - loss: 0.0338 - accuracy: 0.9352 - val_loss: 0.0585 - val_accuracy: 0.8982\n",
      "Epoch 8/15\n",
      "1500/1500 [==============================] - 84s 56ms/step - loss: 0.0321 - accuracy: 0.9393 - val_loss: 0.0490 - val_accuracy: 0.9093\n",
      "Epoch 9/15\n",
      "1500/1500 [==============================] - 82s 55ms/step - loss: 0.0295 - accuracy: 0.9461 - val_loss: 0.0506 - val_accuracy: 0.9123\n",
      "Epoch 10/15\n",
      "1500/1500 [==============================] - 83s 55ms/step - loss: 0.0268 - accuracy: 0.9497 - val_loss: 0.0595 - val_accuracy: 0.9092\n",
      "Epoch 11/15\n",
      "1500/1500 [==============================] - 84s 56ms/step - loss: 0.0251 - accuracy: 0.9544 - val_loss: 0.0590 - val_accuracy: 0.9112\n",
      "Epoch 12/15\n",
      "1500/1500 [==============================] - 82s 55ms/step - loss: 0.0225 - accuracy: 0.9593 - val_loss: 0.0585 - val_accuracy: 0.9040\n",
      "Epoch 13/15\n",
      "1500/1500 [==============================] - 82s 55ms/step - loss: 0.0211 - accuracy: 0.9632 - val_loss: 0.0676 - val_accuracy: 0.9072\n",
      "Epoch 14/15\n",
      "1500/1500 [==============================] - 85s 57ms/step - loss: 0.0215 - accuracy: 0.9642 - val_loss: 0.0643 - val_accuracy: 0.9105\n",
      "Epoch 15/15\n",
      "1500/1500 [==============================] - 85s 57ms/step - loss: 0.0191 - accuracy: 0.9671 - val_loss: 0.0920 - val_accuracy: 0.8940\n"
     ]
    }
   ],
   "source": [
    "# Train your model\n",
    "fashion_trained_history = fashion_model.fit(X_train_model, y_train_model, batch_size=batch_size,epochs=epochs,verbose=1,validation_data=(X_validation, y_validation))"
   ]
  },
  {
   "cell_type": "code",
   "execution_count": 18,
   "metadata": {},
   "outputs": [
    {
     "output_type": "stream",
     "name": "stdout",
     "text": [
      "313/313 [==============================] - 7s 21ms/step - loss: 0.0972 - accuracy: 0.8900\n",
      "The loss of the model is 0.097191, and the accurracy is 0.890000\n"
     ]
    }
   ],
   "source": [
    "# Evaluating the performance of the model usign the validation data\n",
    "test_eval = fashion_model.evaluate(test_X, test_Y_one_hot, verbose=1)\n",
    "print(\"The loss of the model is {0:f}, and the accurracy is {1:f}\".format(test_eval[0],test_eval[1]))"
   ]
  },
  {
   "cell_type": "code",
   "execution_count": null,
   "metadata": {},
   "outputs": [],
   "source": [
    "# using fashion_trained_history information to provide the performance of the model during the training stage\n",
    "accuracy = fashion_trained_history.history['accuracy']\n",
    "val_accuracy = fashion_trained_history.history['val_accuracy']\n",
    "loss = fashion_trained_history.history['loss']\n",
    "val_loss = fashion_trained_history.history['val_loss']\n",
    "epochs = range(len(accuracy))"
   ]
  },
  {
   "cell_type": "code",
   "execution_count": null,
   "metadata": {},
   "outputs": [],
   "source": [
    "plt.plot(epochs, accuracy, 'bo', label='Training accuracy')\n",
    "plt.plot(epochs, val_accuracy, 'b', label='Validation accuracy')\n",
    "plt.title('Training and validation accuracy')\n",
    "plt.legend()\n",
    "plt.figure()\n",
    "plt.plot(epochs, loss, 'bo', label='Training loss')\n",
    "plt.plot(epochs, val_loss, 'b', label='Validation loss')\n",
    "plt.title('Training and validation loss')\n",
    "plt.legend()\n",
    "plt.show()"
   ]
  },
  {
   "cell_type": "code",
   "execution_count": null,
   "metadata": {},
   "outputs": [],
   "source": [
    "# Predicting the new data \"test_X, y_test\"\n",
    "predicted = fashion_model.predict(test_X)\n",
    "\n",
    "# taking the max argument\n",
    "predicted = np.argmax(np.round(predicted),axis=1)\n",
    "print(predicted.shape)\n",
    "print(y_test.shape)\n",
    "#print(\"size fo predicted array {0:d}x{1:d} and size of y_test array {2:d}\".format(predicted.shape[0],predicted.shape[1],y_test.shape))"
   ]
  },
  {
   "cell_type": "code",
   "execution_count": null,
   "metadata": {},
   "outputs": [],
   "source": [
    "# Now let's select those samples that were correctly classified.\n",
    "correct = np.where(predicted==y_test)[0]\n",
    "print(\"Found %d correct labels\" % len(correct))\n",
    "for i, correct in enumerate(correct[:9]):\n",
    "    plt.subplot(3,3,i+1)\n",
    "    plt.imshow(test_X[correct].reshape(28,28), cmap='gray', interpolation='none')\n",
    "    plt.title(\"Predicted {}, Class {}\".format(predicted[correct], y_test[correct]))\n",
    "    plt.tight_layout()"
   ]
  },
  {
   "cell_type": "code",
   "execution_count": null,
   "metadata": {},
   "outputs": [],
   "source": [
    "# Now let's select those samples that were incorrectly classified.\n",
    "incorrect = np.where(predicted!=y_test)[0]\n",
    "print(\"Found %d incorrect labels\" % len(incorrect))\n",
    "for i, incorrect in enumerate(incorrect[:9]):\n",
    "    plt.subplot(3,3,i+1)\n",
    "    plt.imshow(test_X[incorrect].reshape(28,28), cmap='gray', interpolation='none')\n",
    "    plt.title(\"Predicted {}, Class {}\".format(predicted[incorrect], y_test[incorrect]))\n",
    "    plt.tight_layout()"
   ]
  },
  {
   "cell_type": "code",
   "execution_count": null,
   "metadata": {},
   "outputs": [],
   "source": [
    "#Printing Classification reports\n",
    "from sklearn.metrics import classification_report\n",
    "target_names = [\"Class {}\".format(i) for i in range(num_classes)]\n",
    "print(classification_report(y_test, predicted, target_names=target_names))"
   ]
  },
  {
   "cell_type": "code",
   "execution_count": null,
   "metadata": {},
   "outputs": [],
   "source": []
  }
 ]
}